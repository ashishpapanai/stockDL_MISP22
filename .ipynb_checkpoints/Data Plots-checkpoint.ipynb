{
 "cells": [
  {
   "cell_type": "markdown",
   "id": "7e8b3307",
   "metadata": {},
   "source": [
    "## Introduction to stocDL: A Financial Deep-Learning library"
   ]
  },
  {
   "cell_type": "markdown",
   "id": "595ab201",
   "metadata": {},
   "source": [
    "Importing stockDL and the required modules from the library. Here we have imported the data module which has various variables and functions related to the operations on data. "
   ]
  },
  {
   "cell_type": "code",
   "execution_count": 3,
   "id": "fe4685b1",
   "metadata": {},
   "outputs": [],
   "source": [
    "import stockDL\n",
    "from stockDL import data"
   ]
  },
  {
   "cell_type": "markdown",
   "id": "cc78dda5",
   "metadata": {},
   "source": [
    "Importing the stock data, from the data module of stockDL. "
   ]
  },
  {
   "cell_type": "code",
   "execution_count": 9,
   "id": "91f564d5",
   "metadata": {},
   "outputs": [],
   "source": [
    "sd_google = data.Data_Loader('GOOGL').df\n",
    "sd_apple = data.Data_Loader('AAPL').df\n",
    "sd_hdfc = data.Data_Loader('HDFCBANK.NS').df\n",
    "sd_reliance = data.Data_Loader('RELIANCE.NS').df"
   ]
  },
  {
   "cell_type": "code",
   "execution_count": 12,
   "id": "cfc516ff",
   "metadata": {},
   "outputs": [
    {
     "data": {
      "text/html": [
       "<div>\n",
       "<style scoped>\n",
       "    .dataframe tbody tr th:only-of-type {\n",
       "        vertical-align: middle;\n",
       "    }\n",
       "\n",
       "    .dataframe tbody tr th {\n",
       "        vertical-align: top;\n",
       "    }\n",
       "\n",
       "    .dataframe thead th {\n",
       "        text-align: right;\n",
       "    }\n",
       "</style>\n",
       "<table border=\"1\" class=\"dataframe\">\n",
       "  <thead>\n",
       "    <tr style=\"text-align: right;\">\n",
       "      <th></th>\n",
       "      <th>Open</th>\n",
       "      <th>High</th>\n",
       "      <th>Low</th>\n",
       "      <th>Close</th>\n",
       "      <th>Volume</th>\n",
       "    </tr>\n",
       "    <tr>\n",
       "      <th>Date</th>\n",
       "      <th></th>\n",
       "      <th></th>\n",
       "      <th></th>\n",
       "      <th></th>\n",
       "      <th></th>\n",
       "    </tr>\n",
       "  </thead>\n",
       "  <tbody>\n",
       "    <tr>\n",
       "      <th>1996-01-01</th>\n",
       "      <td>2.458312</td>\n",
       "      <td>2.458312</td>\n",
       "      <td>2.373123</td>\n",
       "      <td>2.417746</td>\n",
       "      <td>350000</td>\n",
       "    </tr>\n",
       "    <tr>\n",
       "      <th>1996-01-02</th>\n",
       "      <td>2.417745</td>\n",
       "      <td>2.454255</td>\n",
       "      <td>2.393406</td>\n",
       "      <td>2.413689</td>\n",
       "      <td>412000</td>\n",
       "    </tr>\n",
       "    <tr>\n",
       "      <th>1996-01-03</th>\n",
       "      <td>2.413689</td>\n",
       "      <td>2.429915</td>\n",
       "      <td>2.393406</td>\n",
       "      <td>2.421802</td>\n",
       "      <td>284000</td>\n",
       "    </tr>\n",
       "    <tr>\n",
       "      <th>1996-01-04</th>\n",
       "      <td>2.421801</td>\n",
       "      <td>2.417745</td>\n",
       "      <td>2.385292</td>\n",
       "      <td>2.405575</td>\n",
       "      <td>282000</td>\n",
       "    </tr>\n",
       "    <tr>\n",
       "      <th>1996-01-05</th>\n",
       "      <td>2.405576</td>\n",
       "      <td>2.417746</td>\n",
       "      <td>2.393406</td>\n",
       "      <td>2.401519</td>\n",
       "      <td>189000</td>\n",
       "    </tr>\n",
       "    <tr>\n",
       "      <th>...</th>\n",
       "      <td>...</td>\n",
       "      <td>...</td>\n",
       "      <td>...</td>\n",
       "      <td>...</td>\n",
       "      <td>...</td>\n",
       "    </tr>\n",
       "    <tr>\n",
       "      <th>2021-10-11</th>\n",
       "      <td>1599.900024</td>\n",
       "      <td>1645.000000</td>\n",
       "      <td>1599.000000</td>\n",
       "      <td>1633.800049</td>\n",
       "      <td>6540424</td>\n",
       "    </tr>\n",
       "    <tr>\n",
       "      <th>2021-10-12</th>\n",
       "      <td>1625.000000</td>\n",
       "      <td>1641.550049</td>\n",
       "      <td>1625.000000</td>\n",
       "      <td>1629.599976</td>\n",
       "      <td>4088473</td>\n",
       "    </tr>\n",
       "    <tr>\n",
       "      <th>2021-10-13</th>\n",
       "      <td>1637.000000</td>\n",
       "      <td>1648.000000</td>\n",
       "      <td>1630.000000</td>\n",
       "      <td>1639.400024</td>\n",
       "      <td>3112822</td>\n",
       "    </tr>\n",
       "    <tr>\n",
       "      <th>2021-10-14</th>\n",
       "      <td>1638.000000</td>\n",
       "      <td>1690.000000</td>\n",
       "      <td>1638.000000</td>\n",
       "      <td>1687.400024</td>\n",
       "      <td>7378644</td>\n",
       "    </tr>\n",
       "    <tr>\n",
       "      <th>2021-10-18</th>\n",
       "      <td>1705.000000</td>\n",
       "      <td>1725.000000</td>\n",
       "      <td>1672.650024</td>\n",
       "      <td>1684.800049</td>\n",
       "      <td>8866427</td>\n",
       "    </tr>\n",
       "  </tbody>\n",
       "</table>\n",
       "<p>6479 rows × 5 columns</p>\n",
       "</div>"
      ],
      "text/plain": [
       "                   Open         High          Low        Close   Volume\n",
       "Date                                                                   \n",
       "1996-01-01     2.458312     2.458312     2.373123     2.417746   350000\n",
       "1996-01-02     2.417745     2.454255     2.393406     2.413689   412000\n",
       "1996-01-03     2.413689     2.429915     2.393406     2.421802   284000\n",
       "1996-01-04     2.421801     2.417745     2.385292     2.405575   282000\n",
       "1996-01-05     2.405576     2.417746     2.393406     2.401519   189000\n",
       "...                 ...          ...          ...          ...      ...\n",
       "2021-10-11  1599.900024  1645.000000  1599.000000  1633.800049  6540424\n",
       "2021-10-12  1625.000000  1641.550049  1625.000000  1629.599976  4088473\n",
       "2021-10-13  1637.000000  1648.000000  1630.000000  1639.400024  3112822\n",
       "2021-10-14  1638.000000  1690.000000  1638.000000  1687.400024  7378644\n",
       "2021-10-18  1705.000000  1725.000000  1672.650024  1684.800049  8866427\n",
       "\n",
       "[6479 rows x 5 columns]"
      ]
     },
     "execution_count": 12,
     "metadata": {},
     "output_type": "execute_result"
    }
   ],
   "source": [
    "sd_hdfc"
   ]
  },
  {
   "cell_type": "markdown",
   "id": "0326d5f7",
   "metadata": {},
   "source": [
    "Candle plots for understanding the data. "
   ]
  },
  {
   "cell_type": "code",
   "execution_count": 13,
   "id": "515089d2",
   "metadata": {},
   "outputs": [
    {
     "ename": "ModuleNotFoundError",
     "evalue": "No module named 'plotly'",
     "output_type": "error",
     "traceback": [
      "\u001b[1;31m---------------------------------------------------------------------------\u001b[0m",
      "\u001b[1;31mModuleNotFoundError\u001b[0m                       Traceback (most recent call last)",
      "\u001b[1;32m<ipython-input-13-d4823a114000>\u001b[0m in \u001b[0;36m<module>\u001b[1;34m\u001b[0m\n\u001b[1;32m----> 1\u001b[1;33m \u001b[1;32mimport\u001b[0m \u001b[0mplotly\u001b[0m\u001b[1;33m.\u001b[0m\u001b[0mgraph_objects\u001b[0m \u001b[1;32mas\u001b[0m \u001b[0mgo\u001b[0m\u001b[1;33m\u001b[0m\u001b[1;33m\u001b[0m\u001b[0m\n\u001b[0m\u001b[0;32m      2\u001b[0m \u001b[1;32mimport\u001b[0m \u001b[0mpandas\u001b[0m \u001b[1;32mas\u001b[0m \u001b[0mpd\u001b[0m\u001b[1;33m\u001b[0m\u001b[1;33m\u001b[0m\u001b[0m\n\u001b[0;32m      3\u001b[0m \u001b[1;32mfrom\u001b[0m \u001b[0mdatetime\u001b[0m \u001b[1;32mimport\u001b[0m \u001b[0mdatetime\u001b[0m\u001b[1;33m\u001b[0m\u001b[1;33m\u001b[0m\u001b[0m\n\u001b[0;32m      4\u001b[0m \u001b[1;33m\u001b[0m\u001b[0m\n\u001b[0;32m      5\u001b[0m fig_google = go.Figure(data=[go.Candlestick(x=df['Date'],\n",
      "\u001b[1;31mModuleNotFoundError\u001b[0m: No module named 'plotly'"
     ]
    }
   ],
   "source": [
    "import plotly.graph_objects as go\n",
    "import pandas as pd\n",
    "from datetime import datetime\n",
    "\n",
    "fig_google = go.Figure(data=[go.Candlestick(x=df['Date'],\n",
    "                open=sd_google['Open'],\n",
    "                high=sd_google['High'],\n",
    "                low=sd_google['Low'],\n",
    "                close=sd_google['Close'])])\n",
    "fig_google.show()"
   ]
  },
  {
   "cell_type": "code",
   "execution_count": 14,
   "id": "7c00dee7",
   "metadata": {},
   "outputs": [
    {
     "name": "stdout",
     "output_type": "stream",
     "text": [
      "Collecting plotly\n",
      "  Downloading plotly-5.3.1-py2.py3-none-any.whl (23.9 MB)\n",
      "Collecting tenacity>=6.2.0\n",
      "  Downloading tenacity-8.0.1-py3-none-any.whl (24 kB)\n",
      "Requirement already satisfied: six in e:\\stockdl_researchconclusions\\env\\lib\\site-packages (from plotly) (1.15.0)\n",
      "Installing collected packages: tenacity, plotly\n",
      "Successfully installed plotly-5.3.1 tenacity-8.0.1\n"
     ]
    },
    {
     "name": "stderr",
     "output_type": "stream",
     "text": [
      "WARNING: Ignoring invalid distribution -ip (e:\\stockdl_researchconclusions\\env\\lib\\site-packages)\n",
      "WARNING: Ignoring invalid distribution -ip (e:\\stockdl_researchconclusions\\env\\lib\\site-packages)\n"
     ]
    }
   ],
   "source": [
    "!pip install plotly"
   ]
  },
  {
   "cell_type": "code",
   "execution_count": null,
   "id": "c0180b2d",
   "metadata": {},
   "outputs": [],
   "source": []
  }
 ],
 "metadata": {
  "kernelspec": {
   "display_name": "Python 3",
   "language": "python",
   "name": "python3"
  },
  "language_info": {
   "codemirror_mode": {
    "name": "ipython",
    "version": 3
   },
   "file_extension": ".py",
   "mimetype": "text/x-python",
   "name": "python",
   "nbconvert_exporter": "python",
   "pygments_lexer": "ipython3",
   "version": "3.9.5"
  },
  "latex_envs": {
   "LaTeX_envs_menu_present": true,
   "autoclose": false,
   "autocomplete": true,
   "bibliofile": "biblio.bib",
   "cite_by": "apalike",
   "current_citInitial": 1,
   "eqLabelWithNumbers": true,
   "eqNumInitial": 1,
   "hotkeys": {
    "equation": "Ctrl-E",
    "itemize": "Ctrl-I"
   },
   "labels_anchors": false,
   "latex_user_defs": false,
   "report_style_numbering": false,
   "user_envs_cfg": false
  }
 },
 "nbformat": 4,
 "nbformat_minor": 5
}
