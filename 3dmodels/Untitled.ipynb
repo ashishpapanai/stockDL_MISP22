{
 "cells": [
  {
   "cell_type": "code",
   "execution_count": 1,
   "id": "6f5a6f28",
   "metadata": {},
   "outputs": [
    {
     "name": "stdout",
     "output_type": "stream",
     "text": [
      "Collecting pyCore\n",
      "  Downloading pycore-17.4.17.tar.gz (25 kB)\n",
      "Requirement already satisfied: requests in c:\\users\\ashish papanai\\miniconda3\\lib\\site-packages (from pyCore) (2.25.1)\n",
      "Requirement already satisfied: pytest in c:\\users\\ashish papanai\\miniconda3\\lib\\site-packages (from pyCore) (6.2.4)\n",
      "Collecting pytest-cov\n",
      "  Downloading pytest_cov-3.0.0-py3-none-any.whl (20 kB)\n",
      "Requirement already satisfied: attrs>=19.2.0 in c:\\users\\ashish papanai\\miniconda3\\lib\\site-packages (from pytest->pyCore) (21.2.0)\n",
      "Requirement already satisfied: iniconfig in c:\\users\\ashish papanai\\miniconda3\\lib\\site-packages (from pytest->pyCore) (1.1.1)\n",
      "Requirement already satisfied: packaging in c:\\users\\ashish papanai\\miniconda3\\lib\\site-packages (from pytest->pyCore) (21.0)\n",
      "Requirement already satisfied: pluggy<1.0.0a1,>=0.12 in c:\\users\\ashish papanai\\miniconda3\\lib\\site-packages (from pytest->pyCore) (0.13.1)\n",
      "Requirement already satisfied: py>=1.8.2 in c:\\users\\ashish papanai\\miniconda3\\lib\\site-packages (from pytest->pyCore) (1.10.0)\n",
      "Requirement already satisfied: toml in c:\\users\\ashish papanai\\appdata\\roaming\\python\\python39\\site-packages (from pytest->pyCore) (0.10.2)\n",
      "Requirement already satisfied: atomicwrites>=1.0 in c:\\users\\ashish papanai\\miniconda3\\lib\\site-packages (from pytest->pyCore) (1.4.0)\n",
      "Requirement already satisfied: colorama in c:\\users\\ashish papanai\\appdata\\roaming\\python\\python39\\site-packages (from pytest->pyCore) (0.4.4)\n",
      "Requirement already satisfied: pyparsing>=2.0.2 in c:\\users\\ashish papanai\\miniconda3\\lib\\site-packages (from packaging->pytest->pyCore) (2.4.7)\n",
      "Collecting coverage[toml]>=5.2.1\n",
      "  Downloading coverage-6.1.2-cp39-cp39-win_amd64.whl (182 kB)\n",
      "Collecting tomli\n",
      "  Downloading tomli-1.2.2-py3-none-any.whl (12 kB)\n",
      "Requirement already satisfied: urllib3<1.27,>=1.21.1 in c:\\users\\ashish papanai\\miniconda3\\lib\\site-packages (from requests->pyCore) (1.26.6)\n",
      "Requirement already satisfied: chardet<5,>=3.0.2 in c:\\users\\ashish papanai\\miniconda3\\lib\\site-packages (from requests->pyCore) (4.0.0)\n",
      "Requirement already satisfied: idna<3,>=2.5 in c:\\users\\ashish papanai\\miniconda3\\lib\\site-packages (from requests->pyCore) (2.10)\n",
      "Requirement already satisfied: certifi>=2017.4.17 in c:\\users\\ashish papanai\\miniconda3\\lib\\site-packages (from requests->pyCore) (2021.5.30)\n",
      "Building wheels for collected packages: pyCore\n",
      "  Building wheel for pyCore (setup.py): started\n",
      "  Building wheel for pyCore (setup.py): finished with status 'done'\n",
      "  Created wheel for pyCore: filename=pycore-17.4.17-py3-none-any.whl size=94059 sha256=f0674af89abed96a0df0c89122c398a90a0f3dddd872abcbbaa4d302645054af\n"
     ]
    },
    {
     "name": "stderr",
     "output_type": "stream",
     "text": [
      "WARNING: Ignoring invalid distribution -illow (c:\\users\\ashish papanai\\miniconda3\\lib\\site-packages)\n",
      "WARNING: Ignoring invalid distribution -illow (c:\\users\\ashish papanai\\miniconda3\\lib\\site-packages)\n",
      "WARNING: Ignoring invalid distribution -illow (c:\\users\\ashish papanai\\miniconda3\\lib\\site-packages)\n",
      "WARNING: Ignoring invalid distribution -illow (c:\\users\\ashish papanai\\miniconda3\\lib\\site-packages)\n",
      "WARNING: Ignoring invalid distribution -illow (c:\\users\\ashish papanai\\miniconda3\\lib\\site-packages)\n",
      "WARNING: Ignoring invalid distribution -illow (c:\\users\\ashish papanai\\miniconda3\\lib\\site-packages)\n",
      "WARNING: Ignoring invalid distribution -illow (c:\\users\\ashish papanai\\miniconda3\\lib\\site-packages)\n",
      "WARNING: Ignoring invalid distribution -illow (c:\\users\\ashish papanai\\miniconda3\\lib\\site-packages)\n",
      "WARNING: Ignoring invalid distribution -illow (c:\\users\\ashish papanai\\miniconda3\\lib\\site-packages)\n",
      "WARNING: Ignoring invalid distribution -illow (c:\\users\\ashish papanai\\miniconda3\\lib\\site-packages)\n",
      "WARNING: You are using pip version 21.2.4; however, version 21.3.1 is available.\n",
      "You should consider upgrading via the 'c:\\users\\ashish papanai\\miniconda3\\python.exe -m pip install --upgrade pip' command.\n"
     ]
    },
    {
     "name": "stdout",
     "output_type": "stream",
     "text": [
      "  Stored in directory: c:\\users\\ashish papanai\\appdata\\local\\pip\\cache\\wheels\\11\\f3\\4e\\c5fa94ac77389e9e5d97aa8175545f32ffbbf3c7ea560f8cdc\n",
      "Successfully built pyCore\n",
      "Installing collected packages: tomli, coverage, pytest-cov, pyCore\n",
      "Successfully installed coverage-6.1.2 pyCore-17.4.17 pytest-cov-3.0.0 tomli-1.2.2\n"
     ]
    }
   ],
   "source": [
    "!pip install pyCore"
   ]
  },
  {
   "cell_type": "code",
   "execution_count": null,
   "id": "2f559ce2",
   "metadata": {},
   "outputs": [],
   "source": []
  }
 ],
 "metadata": {
  "kernelspec": {
   "display_name": "Python 3",
   "language": "python",
   "name": "python3"
  },
  "language_info": {
   "codemirror_mode": {
    "name": "ipython",
    "version": 3
   },
   "file_extension": ".py",
   "mimetype": "text/x-python",
   "name": "python",
   "nbconvert_exporter": "python",
   "pygments_lexer": "ipython3",
   "version": "3.9.5"
  },
  "latex_envs": {
   "LaTeX_envs_menu_present": true,
   "autoclose": false,
   "autocomplete": true,
   "bibliofile": "biblio.bib",
   "cite_by": "apalike",
   "current_citInitial": 1,
   "eqLabelWithNumbers": true,
   "eqNumInitial": 1,
   "hotkeys": {
    "equation": "Ctrl-E",
    "itemize": "Ctrl-I"
   },
   "labels_anchors": false,
   "latex_user_defs": false,
   "report_style_numbering": false,
   "user_envs_cfg": false
  }
 },
 "nbformat": 4,
 "nbformat_minor": 5
}
